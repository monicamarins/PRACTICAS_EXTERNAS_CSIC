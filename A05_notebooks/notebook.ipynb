{
 "cells": [
  {
   "cell_type": "markdown",
   "metadata": {},
   "source": [
    "# VOLCANA\n",
    "\n",
    "\n",
    "**Autores:** [Jesús Javier Apesteguía, Mónica Marín, Joel Reyes, Laura Rodríguez]  \n",
    "**Institución:** IPNA-CSIC  \n",
    "**Fechas del proyecto:** [09/03/2025 – 09/05/2025]\n",
    "\n",
    "Este proyecto tiene como objetivo analizar el comportamiento térmico de los volcanes El Teide, La Palma y Timanfaya (Lanzarote) mediante datos satelitales, con el fin de detectar patrones estacionales o posibles signos de actividad volcánica."
   ]
  },
  {
   "cell_type": "markdown",
   "metadata": {},
   "source": [
    "## Objetivos\n",
    "\n",
    "- Descargar y procesar datos satelitales de radianza.\n",
    "- Convertir datos de radianza a temperatura de brillo (BT).\n",
    "- Calcular las imágenes de referencia mensuales (REF) a partir de la temperatura de brillo.\n",
    "- Calcular la Potencia Radiactiva (FRP) diaria en áreas volcánicas.\n",
    "- Evaluar variaciones térmicas y posibles correlaciones con actividad sísmica."
   ]
  },
  {
   "cell_type": "markdown",
   "metadata": {},
   "source": [
    "## Estructura de Carpetas\n",
    "\n",
    "- `A00_data/`\n",
    "  - `B_raw/`: Datos descargados sin procesar.\n",
    "  - `B_processed/`: Datos procesados (BT, REF, FRP).\n",
    "- `A01_source/`: Scripts de procesamiento y análisis.\n",
    "- `A02_utils/`: Funciones auxiliares y herramientas reutilizables.\n",
    "- `A03_web/`: Recursos relacionados con la interfaz web del proyecto\n",
    "- `A04_tests/`: Scripts unitarios para validación del código.\n",
    "- `A05_notebooks/`: Documentación formal del proyecto."
   ]
  },
  {
   "cell_type": "code",
   "execution_count": 2,
   "metadata": {},
   "outputs": [
    {
     "name": "stdout",
     "output_type": "stream",
     "text": [
      "Ruta de salida: /Users/moni/Desktop/Practicas_Empresa_CSIC/A00_data/B_raw/La_Palma/2025_125\n",
      "\n",
      "📅 Downloading data for 2025-125...\n",
      "🔍 Searching for files of VJ102IMG...\n",
      "📥 Downloading VJ102IMG.A2025125.0000.021.2025125063154.nc...\n",
      "❌ Does not meet conditions. Deleting...\n",
      "📥 Downloading VJ102IMG.A2025125.0006.021.2025125063121.nc...\n",
      "❌ Does not meet conditions. Deleting...\n",
      "📥 Downloading VJ102IMG.A2025125.0012.021.2025125063128.nc...\n",
      "❌ Does not meet conditions. Deleting...\n",
      "📥 Downloading VJ102IMG.A2025125.0018.021.2025125063146.nc...\n",
      "❌ Does not meet conditions. Deleting...\n",
      "📥 Downloading VJ102IMG.A2025125.0024.021.2025125063159.nc...\n",
      "❌ Does not meet conditions. Deleting...\n",
      "📥 Downloading VJ102IMG.A2025125.0030.021.2025125063134.nc...\n",
      "❌ Does not meet conditions. Deleting...\n",
      "📥 Downloading VJ102IMG.A2025125.0036.021.2025125063118.nc...\n",
      "❌ Does not meet conditions. Deleting...\n",
      "📥 Downloading VJ102IMG.A2025125.0042.021.2025125063117.nc...\n",
      "❌ Does not meet conditions. Deleting...\n",
      "📥 Downloading VJ102IMG.A2025125.0048.021.2025125063112.nc...\n",
      "❌ Does not meet conditions. Deleting...\n",
      "📥 Downloading VJ102IMG.A2025125.0054.021.2025125063118.nc...\n",
      "❌ Does not meet conditions. Deleting...\n",
      "📥 Downloading VJ102IMG.A2025125.0100.021.2025125063114.nc...\n",
      "⚠️ Error processing VJ102IMG.A2025125.0100.021.2025125063114.nc: [Errno -51] NetCDF: Unknown file format: '/Users/moni/Desktop/Practicas_Empresa_CSIC/A00_data/B_raw/La_Palma/2025_125/VJ102IMG.A2025125.0100.021.2025125063114.nc'\n",
      "📥 Downloading VJ102IMG.A2025125.0106.021.2025125063134.nc...\n",
      "❌ Does not meet conditions. Deleting...\n",
      "📥 Downloading VJ102IMG.A2025125.0112.021.2025125063154.nc...\n",
      "❌ Does not meet conditions. Deleting...\n",
      "📥 Downloading VJ102IMG.A2025125.0118.021.2025125063203.nc...\n",
      "❌ Does not meet conditions. Deleting...\n",
      "📥 Downloading VJ102IMG.A2025125.0124.021.2025125063154.nc...\n",
      "❌ Does not meet conditions. Deleting...\n",
      "📥 Downloading VJ102IMG.A2025125.0130.021.2025125063131.nc...\n",
      "❌ Does not meet conditions. Deleting...\n",
      "📥 Downloading VJ102IMG.A2025125.0136.021.2025125063125.nc...\n",
      "❌ Does not meet conditions. Deleting...\n",
      "📥 Downloading VJ102IMG.A2025125.0142.021.2025125063106.nc...\n",
      "❌ Does not meet conditions. Deleting...\n",
      "📥 Downloading VJ102IMG.A2025125.0148.021.2025125082838.nc...\n",
      "❌ Does not meet conditions. Deleting...\n",
      "📥 Downloading VJ102IMG.A2025125.0154.021.2025125094824.nc...\n",
      "❌ Does not meet conditions. Deleting...\n",
      "📥 Downloading VJ102IMG.A2025125.0200.021.2025125094156.nc...\n",
      "❌ Does not meet conditions. Deleting...\n",
      "📥 Downloading VJ102IMG.A2025125.0206.021.2025125094449.nc...\n",
      "❌ Does not meet conditions. Deleting...\n",
      "📥 Downloading VJ102IMG.A2025125.0212.021.2025125094209.nc...\n",
      "❌ Does not meet conditions. Deleting...\n",
      "📥 Downloading VJ102IMG.A2025125.0218.021.2025125093357.nc...\n",
      "❌ Does not meet conditions. Deleting...\n",
      "📥 Downloading VJ102IMG.A2025125.0224.021.2025125094611.nc...\n",
      "❌ Does not meet conditions. Deleting...\n",
      "📥 Downloading VJ102IMG.A2025125.0230.021.2025125094211.nc...\n",
      "❌ Does not meet conditions. Deleting...\n",
      "📥 Downloading VJ102IMG.A2025125.0236.021.2025125093405.nc...\n",
      "❌ Does not meet conditions. Deleting...\n",
      "📥 Downloading VJ102IMG.A2025125.0242.021.2025125093410.nc...\n",
      "❌ Does not meet conditions. Deleting...\n",
      "📥 Downloading VJ102IMG.A2025125.0248.021.2025125095430.nc...\n",
      "❌ Does not meet conditions. Deleting...\n",
      "📥 Downloading VJ102IMG.A2025125.0254.021.2025125094847.nc...\n",
      "❌ Does not meet conditions. Deleting...\n",
      "📥 Downloading VJ102IMG.A2025125.0300.021.2025125094339.nc...\n",
      "❌ Does not meet conditions. Deleting...\n",
      "📥 Downloading VJ102IMG.A2025125.0306.021.2025125094302.nc...\n",
      "✔️ Valid file: nighttime over La Palma.\n",
      "✅ Download complete.\n"
     ]
    }
   ],
   "source": [
    "# Código para mostrar cómo se descargan los datos\n",
    "\n",
    "import sys\n",
    "from pathlib import Path\n",
    "\n",
    "# Añadir la raíz del proyecto al path (ajusta el nombre según tu estructura)\n",
    "project_root = next(p for p in Path().resolve().parents if p.name == \"Practicas_Empresa_CSIC\")\n",
    "sys.path.append(str(project_root))\n",
    "\n",
    "from A01_source.B01_1_download.La_Palma.download_LaPalma import descargar_datos1\n",
    "\n",
    "descargar_datos1()"
   ]
  },
  {
   "cell_type": "markdown",
   "metadata": {},
   "source": [
    "## Cálculo de la Temperatura de Brillo (BT)\n",
    "\n",
    "Este proceso convierte archivos satelitales diarios del producto `VJ102IMG` en mapas de **temperatura de brillo (BT)** sobre la isla de La Palma.\n",
    "\n",
    "---\n",
    "\n",
    "### 1. Configuración de rutas\n",
    "- Se detecta automáticamente la raíz del proyecto `Practicas_Empresa_CSIC`.\n",
    "- Se establece la carpeta de entrada:  \n",
    "  `A00_data/B_raw/La_Palma/`  \n",
    "  con archivos NetCDF descargados cada día.\n",
    "- Se define la carpeta de salida:  \n",
    "  `A00_data/B_processed/La_Palma/BT_daily_pixels/`  \n",
    "  donde se almacenan los resultados procesados.\n",
    "\n",
    "---\n",
    "\n",
    "### 2.Cálculo de la Temperatura de Brillo (BT)\n",
    "\n",
    "La temperatura de brillo se calcula a partir de la radiancia usando la fórmula inversa de Planck:\n",
    "\n",
    "\\[\n",
    "BT = \\frac{c_2}{\\lambda \\cdot \\ln\\left( \\frac{c_1}{L \\cdot \\lambda^5} + 1 \\right)}\n",
    "\\]\n",
    "\n",
    "donde:\n",
    "\n",
    "- \\( L \\): radiancia medida  \n",
    "- \\( \\lambda = 11.45\\,\\mu m \\)  \n",
    "- \\( c_1 = 1.191042 \\times 10^8 \\)  \n",
    "- \\( c_2 = 1.4387752 \\times 10^4 \\)\n",
    "\n",
    "---\n",
    "\n",
    "### 3. Extracción de coordenadas\n",
    "- A partir de los atributos globales (`NorthBoundingCoordinate`, `SouthBoundingCoordinate`, etc.), se construye una malla de latitudes y longitudes.\n",
    "\n",
    "---\n",
    "\n",
    "### 4. Guardado de resultados\n",
    "- Se crea un `xarray.DataArray` con dimensiones (`time`, `y`, `x`) y coordenadas georreferenciadas (`latitude`, `longitude`).\n",
    "- Si existe un archivo mensual, se acumulan los nuevos datos en él.\n",
    "- Se aplica compresión (`zlib`) y se guarda en formato NetCDF con tipo `float32`.\n",
    "\n",
    "---\n",
    "\n",
    "### 5. Resultado final\n",
    "- El archivo generado tiene el nombre: BT_La_Palma_VJ102IMG_YYYYMMDD.nc\n",
    "  "
   ]
  },
  {
   "cell_type": "code",
   "execution_count": 3,
   "metadata": {},
   "outputs": [
    {
     "name": "stdout",
     "output_type": "stream",
     "text": [
      "\n",
      "=== Processing BT for 2025-05-05 ===\n",
      "→ Processing file: VJ102IMG.A2025125.0306.021.2025125094302.nc\n",
      "→ Mean BT for 2025-05-05: 275.95 K\n",
      "✔︎ Updated: BT_LaPalma_VJ102IMG_2025_05.nc\n"
     ]
    }
   ],
   "source": [
    "import runpy\n",
    "from pathlib import Path\n",
    "import os\n",
    "\n",
    "# Localiza manualmente la raíz del proyecto (ajusta este nombre si es diferente)\n",
    "for parent in Path().resolve().parents:\n",
    "    if \"Practicas_Empresa_CSIC\" in parent.name:\n",
    "        project_root = parent\n",
    "        break\n",
    "else:\n",
    "    raise RuntimeError(\"No se encontró la carpeta del proyecto en la ruta actual.\")\n",
    "\n",
    "# Ruta al script original\n",
    "script_path = project_root / \"A01_source\" / \"B01_3_processing\" / \"La_Palma\" / \"BT\" / \"BT_auto.py\"\n",
    "\n",
    "# Establece la variable de entorno __file__ para que el script funcione\n",
    "os.environ[\"__file__\"] = str(script_path)\n",
    "\n",
    "# Ejecuta el script y evita mostrar su salida\n",
    "_ = runpy.run_path(str(script_path), run_name=\"__main__\")"
   ]
  },
  {
   "cell_type": "markdown",
   "metadata": {},
   "source": [
    "## Generación del archivo REF mensual (La Palma)\n",
    "\n",
    "Este script calcula la **temperatura de brillo media mensual (REF)** filtrada espacialmente sobre la región volcánica de La Palma. A continuación, se describen los pasos clave que realiza:\n",
    "\n",
    "1. **Configuración de rutas:**\n",
    "   - Detecta automáticamente la raíz del proyecto (`Practicas_Empresa_CSIC`).\n",
    "   - Define el directorio de entrada (`BT_daily_pixels`) y de salida (`REF`).\n",
    "\n",
    "2. **Región geográfica de interés:**\n",
    "   - Se selecciona un área específica en La Palma entre las latitudes 28.55–28.65 y longitudes -17.93 a -17.80.\n",
    "\n",
    "3. **Carga del archivo mensual de BT:**\n",
    "   - Abre el archivo `BT_LaPalma_VJ102IMG_YYYY_MM.nc` correspondiente al mes actual.\n",
    "   - Verifica que contiene la variable `BT_I05`.\n",
    "\n",
    "4. **Procesamiento de cada escena diaria:**\n",
    "   - Para cada imagen del mes:\n",
    "     - Se establece el sistema de coordenadas geográficas (`EPSG:4326`).\n",
    "     - Se reproyecta para unificar dimensiones.\n",
    "     - Se aplica una máscara geográfica para recortar el área del volcán.\n",
    "     - Se filtra la escena.\n",
    "\n",
    "5. **Cálculo del REF mensual:**\n",
    "   - Se promedian todas las escenas válidas del mes para obtener una imagen final.\n",
    "   - Se guarda como NetCDF (`brightness_temperature_REF`), con metadatos y lista de escenas usadas.\n",
    "\n",
    "6. **Salida:**\n",
    "   - El archivo final se guarda en:  \n",
    "     `A00_data/B_processed/La_Palma/REF/Ref_YYYY_MM.nc`\n",
    "\n",
    "> Este proceso asegura que solo se utilicen escenas con información térmica significativa y de buena calidad para construir un mapa representativo de referencia mensual (REF)."
   ]
  },
  {
   "cell_type": "code",
   "execution_count": 4,
   "metadata": {},
   "outputs": [
    {
     "name": "stdout",
     "output_type": "stream",
     "text": [
      "\n",
      "=== Generating REF for 2025-05 ===\n",
      "✔︎ Monthly file loaded: BT_LaPalma_VJ102IMG_2025_05.nc\n",
      "Scene 0 OK (min=238.83, std=8.10)\n",
      "\n",
      "Valid scenes: 1 / 1\n",
      "\n",
      "✔︎ REF saved to: /Users/moni/Desktop/Practicas_Empresa_CSIC/A00_data/B_processed/La_Palma/REF/Ref_2025_05.nc\n"
     ]
    }
   ],
   "source": [
    "from pathlib import Path\n",
    "\n",
    "# Localiza la raíz del proyecto\n",
    "project_root = next(p for p in Path().resolve().parents if \"Practicas_Empresa_CSIC\" in p.name)\n",
    "\n",
    "# Ruta al script que genera la REF\n",
    "script_path = project_root / \"A01_source\" / \"B01_3_processing\" / \"La_Palma\" / \"REF\" / \"REF_auto.py\"\n",
    "\n",
    "# Ejecutar el script de forma segura, definiendo __file__\n",
    "with open(script_path) as f:\n",
    "    code = compile(f.read(), filename=str(script_path), mode='exec')\n",
    "    exec(code, {\"__file__\": str(script_path)})"
   ]
  },
  {
   "cell_type": "markdown",
   "metadata": {},
   "source": [
    "## Cálculo de la Potencia Radiactiva (FRP) en La Palma\n",
    "\n",
    "Este bloque ejecuta el script `FRP_auto.py`, que forma parte del pipeline de procesamiento térmico del volcán de La Palma. Su objetivo es calcular la **Fire Radiative Power (FRP)** diaria, un indicador indirecto de actividad térmica en el área volcánica.\n",
    "\n",
    "### Pasos que realiza el script:\n",
    "\n",
    "1. **Carga del archivo mensual de Temperatura de Brillo (BT):**  \n",
    "   Se abre el NetCDF correspondiente al mes actual, ubicado en `BT_daily_pixels`.\n",
    "\n",
    "2. **Selección de la escena diaria:**  \n",
    "   Se filtra la variable `BT_I05` correspondiente al día anterior (`datetime.now() - 1 día`).\n",
    "\n",
    "3. **Aplicación de una máscara geográfica:**  \n",
    "   Se limita el análisis a una región definida en torno al volcán (latitudes entre 28.54 y 28.57, longitudes entre -17.74 y -17.70).\n",
    "\n",
    "4. **Cálculo de la temperatura media y la FRP:**  \n",
    "   Usando la ley de Stefan-Boltzmann, se estima la potencia radiativa:\n",
    "\n",
    "   \\[\n",
    "   \\text{FRP} = \\sigma \\cdot (T^4 - T_{\\text{floor}}^4) \\cdot \\text{área}\n",
    "   \\]\n",
    "\n",
    "\n",
    "5. **Exportación del resultado:**  \n",
    "   La FRP diaria válida se guarda en un archivo `radiative_power.nc`, organizado por fechas.\n",
    "\n",
    "---\n",
    "\n",
    "Este script permite llevar un seguimiento temporal de la evolución térmica del volcán, útil para detectar patrones estacionales o anomalías térmicas relacionadas con posibles cambios hidrotermales o actividad sísmica."
   ]
  },
  {
   "cell_type": "code",
   "execution_count": 7,
   "metadata": {},
   "outputs": [
    {
     "name": "stdout",
     "output_type": "stream",
     "text": [
      "\n",
      "=== CALCULATING FRP FOR 2025-05-05 ===\n",
      "2025-05-05 → BTmean=271.89 K, FRP=2.14 MW\n",
      "✔︎ FRP appended to radiative_power.nc\n"
     ]
    },
    {
     "name": "stderr",
     "output_type": "stream",
     "text": [
      "/Users/moni/Desktop/Practicas_Empresa_CSIC/A01_source/B01_3_processing/La_Palma/radiative_power/RP_auto.py:64: DeprecationWarning: datetime.datetime.utcnow() is deprecated and scheduled for removal in a future version. Use timezone-aware objects to represent datetimes in UTC: datetime.datetime.now(datetime.UTC).\n",
      "  total = (datetime.utcnow() - cutoff).days\n"
     ]
    }
   ],
   "source": [
    "# === Notebook cell: Ejecutar FRP_auto.py de La Palma y documentar ===\n",
    "\n",
    "import runpy\n",
    "from pathlib import Path\n",
    "\n",
    "# Paso 1: Localiza la ruta al script original de FRP de La Palma\n",
    "project_root = next(p for p in Path().resolve().parents if \"Practicas_Empresa_CSIC\" in p.name)\n",
    "script_path = project_root / \"A01_source\" / \"B01_3_processing\" / \"La_Palma\" / \"radiative_power\" / \"RP_auto.py\"\n",
    "\n",
    "# Paso 2: Ejecuta el script como módulo principal (como si fuera run desde terminal)\n",
    "resultados = runpy.run_path(str(script_path), run_name=\"__main__\")\n",
    "\n"
   ]
  }
 ],
 "metadata": {
  "kernelspec": {
   "display_name": ".venv",
   "language": "python",
   "name": "python3"
  },
  "language_info": {
   "codemirror_mode": {
    "name": "ipython",
    "version": 3
   },
   "file_extension": ".py",
   "mimetype": "text/x-python",
   "name": "python",
   "nbconvert_exporter": "python",
   "pygments_lexer": "ipython3",
   "version": "3.12.7"
  }
 },
 "nbformat": 4,
 "nbformat_minor": 2
}
